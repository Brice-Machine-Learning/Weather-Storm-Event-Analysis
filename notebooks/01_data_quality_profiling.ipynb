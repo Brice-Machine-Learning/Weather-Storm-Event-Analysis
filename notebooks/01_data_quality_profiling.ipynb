{
 "cells": [
  {
   "cell_type": "code",
   "id": "initial_id",
   "metadata": {
    "collapsed": true,
    "ExecuteTime": {
     "end_time": "2025-09-06T20:21:19.045635Z",
     "start_time": "2025-09-06T20:21:19.040829Z"
    }
   },
   "source": [
    "# Project: Storm Events Analysis (NOAA)\n",
    "# Notebook: 01_data_quality_profiling.ipynb\n",
    "# Goal: Inspect missingness, duplicated events, outliers, odd codes. Create a profiling report (e.g., pandas-profiling/ydata-profiling). Output a cleaning plan (list of rules) saved to reports/.\n",
    "# Author: Brice Nelson\n",
    "# Date: 2025-09-06\n",
    "\n",
    "from pathlib import Path\n",
    "import numpy as np\n",
    "import pandas as pd\n",
    "import matplotlib.pyplot as plt\n",
    "import seaborn as sns\n",
    "plt.rcParams[\"figure.dpi\"] = 130\n",
    "RANDOM_SEED = 42\n",
    "np.random.seed(RANDOM_SEED)\n",
    "\n",
    "# Paths\n",
    "PROJECT_ROOT = Path.cwd().parent if Path.cwd().name == \"notebooks\" else Path.cwd()\n",
    "DATA_RAW = PROJECT_ROOT / \"data\" / \"raw\"\n",
    "DATA_INTERIM = PROJECT_ROOT / \"data\" / \"interim\"\n",
    "DATA_PROCESSED = PROJECT_ROOT / \"data\" / \"processed\"\n",
    "REPORT_FIGS = PROJECT_ROOT / \"reports\" / \"figures\"\n",
    "REPORT_FIGS.mkdir(parents=True, exist_ok=True)"
   ],
   "outputs": [],
   "execution_count": 2
  },
  {
   "metadata": {},
   "cell_type": "code",
   "outputs": [],
   "execution_count": null,
   "source": "",
   "id": "d8fe4825e87cc26b"
  }
 ],
 "metadata": {
  "kernelspec": {
   "display_name": "Python 3",
   "language": "python",
   "name": "python3"
  },
  "language_info": {
   "codemirror_mode": {
    "name": "ipython",
    "version": 2
   },
   "file_extension": ".py",
   "mimetype": "text/x-python",
   "name": "python",
   "nbconvert_exporter": "python",
   "pygments_lexer": "ipython2",
   "version": "2.7.6"
  }
 },
 "nbformat": 4,
 "nbformat_minor": 5
}
