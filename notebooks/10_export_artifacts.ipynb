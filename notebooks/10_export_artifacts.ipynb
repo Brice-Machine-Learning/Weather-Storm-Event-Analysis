# Project: Storm Events Analysis (NOAA)
# Notebook: 10_export_artifacts.ipynb
# Goal: Explore trends, seasonality, and correlations
# Author: Brice Nelson
# Date: 2025-09-05

from pathlib import Path
import numpy as np, pandas as pd, matplotlib.pyplot as plt, seaborn as sns
plt.rcParams["figure.dpi"] = 130
RANDOM_SEED = 42
np.random.seed(RANDOM_SEED)

# Paths
PROJECT_ROOT = Path.cwd().parent if Path.cwd().name == "notebooks" else Path.cwd()
DATA_RAW = PROJECT_ROOT / "data" / "raw"
DATA_INTERIM = PROJECT_ROOT / "data" / "interim"
DATA_PROCESSED = PROJECT_ROOT / "data" / "processed"
REPORT_FIGS = PROJECT_ROOT / "reports" / "figures"
REPORT_FIGS.mkdir(parents=True, exist_ok=True)