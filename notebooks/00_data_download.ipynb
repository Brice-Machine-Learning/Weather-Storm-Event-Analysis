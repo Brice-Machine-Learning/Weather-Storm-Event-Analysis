{
 "cells": [
  {
   "cell_type": "code",
   "execution_count": 1,
   "id": "12c553cc-142a-47fc-b770-aaa4972aaaa8",
   "metadata": {},
   "outputs": [],
   "source": [
    "# Project: Storm Events Analysis (NOAA)\n",
    "# Notebook: 00_data_download.ipynb\n",
    "# Goal: Determine data shapes and column IDS, plan for com\n",
    "# Author: Brice Nelson\n",
    "# Date: 2025-09-05\n",
    "\n",
    "from pathlib import Path\n",
    "import numpy as np, pandas as pd, matplotlib.pyplot as plt, seaborn as sns\n",
    "plt.rcParams[\"figure.dpi\"] = 130\n",
    "RANDOM_SEED = 42\n",
    "np.random.seed(RANDOM_SEED)\n",
    "\n",
    "# Paths\n",
    "PROJECT_ROOT = Path.cwd().parent if Path.cwd().name == \"notebooks\" else Path.cwd()\n",
    "DATA_RAW = PROJECT_ROOT / \"data\" / \"raw\"\n",
    "DATA_INTERIM = PROJECT_ROOT / \"data\" / \"interim\"\n",
    "DATA_PROCESSED = PROJECT_ROOT / \"data\" / \"processed\"\n",
    "REPORT_FIGS = PROJECT_ROOT / \"reports\" / \"figures\"\n",
    "REPORT_FIGS.mkdir(parents=True, exist_ok=True)"
   ]
  },
  {
   "cell_type": "markdown",
   "id": "5085cd90-88b6-4dc7-b1a8-1477798a6c00",
   "metadata": {},
   "source": [
    "## Determine shape of files and information in files for planning of data handling"
   ]
  },
  {
   "cell_type": "code",
   "execution_count": 2,
   "id": "fe38cc90-0382-4662-b8d3-45a5199d06dc",
   "metadata": {},
   "outputs": [
    {
     "name": "stdout",
     "output_type": "stream",
     "text": [
      "Shape: (471, 11)\n",
      "<class 'pandas.core.frame.DataFrame'>\n",
      "RangeIndex: 471 entries, 0 to 470\n",
      "Data columns (total 11 columns):\n",
      " #   Column             Non-Null Count  Dtype  \n",
      "---  ------             --------------  -----  \n",
      " 0   FAT_YEARMONTH      471 non-null    int64  \n",
      " 1   FAT_DAY            471 non-null    int64  \n",
      " 2   FAT_TIME           471 non-null    int64  \n",
      " 3   FATALITY_ID        471 non-null    int64  \n",
      " 4   EVENT_ID           471 non-null    int64  \n",
      " 5   FATALITY_TYPE      471 non-null    object \n",
      " 6   FATALITY_DATE      471 non-null    object \n",
      " 7   FATALITY_AGE       400 non-null    float64\n",
      " 8   FATALITY_SEX       438 non-null    object \n",
      " 9   FATALITY_LOCATION  471 non-null    object \n",
      " 10  EVENT_YEARMONTH    471 non-null    int64  \n",
      "dtypes: float64(1), int64(6), object(4)\n",
      "memory usage: 40.6+ KB\n",
      "info: None\n"
     ]
    }
   ],
   "source": [
    "storm_fatalities_2020 = pd.read_csv(\"../data/raw/archive/StormEvents_fatalities-ftp_v1.0_d2020_c20201216.csv\")\n",
    "print(f'Shape: {storm_fatalities_2020.shape}')\n",
    "print(f'info: {storm_fatalities_2020.info()}')"
   ]
  },
  {
   "cell_type": "code",
   "execution_count": 3,
   "id": "cdd813ac-e11d-4fca-9c93-9fd832ff2357",
   "metadata": {},
   "outputs": [
    {
     "name": "stdout",
     "output_type": "stream",
     "text": [
      "Shape: (50317, 51)\n",
      "<class 'pandas.core.frame.DataFrame'>\n",
      "RangeIndex: 50317 entries, 0 to 50316\n",
      "Data columns (total 51 columns):\n",
      " #   Column              Non-Null Count  Dtype  \n",
      "---  ------              --------------  -----  \n",
      " 0   BEGIN_YEARMONTH     50317 non-null  int64  \n",
      " 1   BEGIN_DAY           50317 non-null  int64  \n",
      " 2   BEGIN_TIME          50317 non-null  int64  \n",
      " 3   END_YEARMONTH       50317 non-null  int64  \n",
      " 4   END_DAY             50317 non-null  int64  \n",
      " 5   END_TIME            50317 non-null  int64  \n",
      " 6   EPISODE_ID          50317 non-null  int64  \n",
      " 7   EVENT_ID            50317 non-null  int64  \n",
      " 8   STATE               50317 non-null  object \n",
      " 9   STATE_FIPS          50317 non-null  int64  \n",
      " 10  YEAR                50317 non-null  int64  \n",
      " 11  MONTH_NAME          50317 non-null  object \n",
      " 12  EVENT_TYPE          50317 non-null  object \n",
      " 13  CZ_TYPE             50317 non-null  object \n",
      " 14  CZ_FIPS             50317 non-null  int64  \n",
      " 15  CZ_NAME             50317 non-null  object \n",
      " 16  WFO                 50317 non-null  object \n",
      " 17  BEGIN_DATE_TIME     50317 non-null  object \n",
      " 18  CZ_TIMEZONE         50317 non-null  object \n",
      " 19  END_DATE_TIME       50317 non-null  object \n",
      " 20  INJURIES_DIRECT     50317 non-null  int64  \n",
      " 21  INJURIES_INDIRECT   50317 non-null  int64  \n",
      " 22  DEATHS_DIRECT       50317 non-null  int64  \n",
      " 23  DEATHS_INDIRECT     50317 non-null  int64  \n",
      " 24  DAMAGE_PROPERTY     39824 non-null  object \n",
      " 25  DAMAGE_CROPS        40641 non-null  object \n",
      " 26  SOURCE              50317 non-null  object \n",
      " 27  MAGNITUDE           31312 non-null  float64\n",
      " 28  MAGNITUDE_TYPE      23758 non-null  object \n",
      " 29  FLOOD_CAUSE         5568 non-null   object \n",
      " 30  CATEGORY            37 non-null     float64\n",
      " 31  TOR_F_SCALE         1164 non-null   object \n",
      " 32  TOR_LENGTH          1164 non-null   float64\n",
      " 33  TOR_WIDTH           1164 non-null   float64\n",
      " 34  TOR_OTHER_WFO       163 non-null    object \n",
      " 35  TOR_OTHER_CZ_STATE  163 non-null    object \n",
      " 36  TOR_OTHER_CZ_FIPS   163 non-null    float64\n",
      " 37  TOR_OTHER_CZ_NAME   163 non-null    object \n",
      " 38  BEGIN_RANGE         36837 non-null  float64\n",
      " 39  BEGIN_AZIMUTH       36837 non-null  object \n",
      " 40  BEGIN_LOCATION      36837 non-null  object \n",
      " 41  END_RANGE           36837 non-null  float64\n",
      " 42  END_AZIMUTH         36837 non-null  object \n",
      " 43  END_LOCATION        36837 non-null  object \n",
      " 44  BEGIN_LAT           36837 non-null  float64\n",
      " 45  BEGIN_LON           36837 non-null  float64\n",
      " 46  END_LAT             36837 non-null  float64\n",
      " 47  END_LON             36837 non-null  float64\n",
      " 48  EPISODE_NARRATIVE   50317 non-null  object \n",
      " 49  EVENT_NARRATIVE     40587 non-null  object \n",
      " 50  DATA_SOURCE         50317 non-null  object \n",
      "dtypes: float64(11), int64(15), object(25)\n",
      "memory usage: 19.6+ MB\n",
      "info: None\n"
     ]
    }
   ],
   "source": [
    "storm_details_2020 = pd.read_csv(\"../data/raw/archive/StormEvents_details-ftp_v1.0_d2020_c20201216.csv\")\n",
    "print(f'Shape: {storm_details_2020.shape}')\n",
    "print(f'info: {storm_details_2020.info()}')"
   ]
  },
  {
   "cell_type": "code",
   "execution_count": 4,
   "id": "55949b56-84d9-4e32-9e81-41576774e0ab",
   "metadata": {},
   "outputs": [
    {
     "name": "stdout",
     "output_type": "stream",
     "text": [
      "Shape: (48968, 11)\n",
      "<class 'pandas.core.frame.DataFrame'>\n",
      "RangeIndex: 48968 entries, 0 to 48967\n",
      "Data columns (total 11 columns):\n",
      " #   Column          Non-Null Count  Dtype  \n",
      "---  ------          --------------  -----  \n",
      " 0   YEARMONTH       48968 non-null  int64  \n",
      " 1   EPISODE_ID      48968 non-null  int64  \n",
      " 2   EVENT_ID        48968 non-null  int64  \n",
      " 3   LOCATION_INDEX  48968 non-null  int64  \n",
      " 4   RANGE           48968 non-null  float64\n",
      " 5   AZIMUTH         48968 non-null  object \n",
      " 6   LOCATION        48968 non-null  object \n",
      " 7   LATITUDE        48968 non-null  float64\n",
      " 8   LONGITUDE       48968 non-null  float64\n",
      " 9   LAT2            48968 non-null  int64  \n",
      " 10  LON2            48968 non-null  int64  \n",
      "dtypes: float64(3), int64(6), object(2)\n",
      "memory usage: 4.1+ MB\n",
      "info: None\n"
     ]
    }
   ],
   "source": [
    "storm_locations_2020 = pd.read_csv(\"../data/raw/archive/StormEvents_locations-ftp_v1.0_d2020_c20201216.csv\")\n",
    "print(f'Shape: {storm_locations_2020.shape}')\n",
    "print(f'info: {storm_locations_2020.info()}')"
   ]
  },
  {
   "cell_type": "code",
   "execution_count": null,
   "id": "68ad3c29-8c73-4210-b05b-b3a487b43410",
   "metadata": {},
   "outputs": [],
   "source": []
  }
 ],
 "metadata": {
  "kernelspec": {
   "display_name": "Python 3 (Spyder)",
   "language": "python3",
   "name": "python3"
  },
  "language_info": {
   "codemirror_mode": {
    "name": "ipython",
    "version": 3
   },
   "file_extension": ".py",
   "mimetype": "text/x-python",
   "name": "python",
   "nbconvert_exporter": "python",
   "pygments_lexer": "ipython3",
   "version": "3.12.5"
  }
 },
 "nbformat": 4,
 "nbformat_minor": 5
}
